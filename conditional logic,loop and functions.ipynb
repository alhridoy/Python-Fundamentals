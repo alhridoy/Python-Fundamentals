{
 "cells": [
  {
   "cell_type": "raw",
   "metadata": {},
   "source": [
    "if: If this is true, then do it.\n",
    "\n",
    "elif: If the condition of if is not true then it is true, then do it. elif will always come after if. And only if the condition of if is not true, then the condition of elif will get a chance to be executed.\n",
    "\n",
    "else: If none of this is true, do it. else will always come after if and elif (actually at the end of all)."
   ]
  },
  {
   "cell_type": "markdown",
   "metadata": {},
   "source": [
    "# IF"
   ]
  },
  {
   "cell_type": "code",
   "execution_count": 2,
   "metadata": {},
   "outputs": [
    {
     "name": "stdout",
     "output_type": "stream",
     "text": [
      "a is less than 10.\n"
     ]
    }
   ],
   "source": [
    "a=5 #assigned variable\n",
    "\n",
    "if a < 10:\n",
    "    print('a is less than 10.')\n",
    "\n"
   ]
  },
  {
   "cell_type": "code",
   "execution_count": 6,
   "metadata": {},
   "outputs": [],
   "source": [
    "if a > 10:\n",
    "    print('a is less than 10.')"
   ]
  },
  {
   "cell_type": "code",
   "execution_count": 8,
   "metadata": {},
   "outputs": [
    {
     "name": "stdout",
     "output_type": "stream",
     "text": [
      "5 is more than 2.\n"
     ]
    }
   ],
   "source": [
    "if a > 2:\n",
    "    print('5 is more than 2.')"
   ]
  },
  {
   "cell_type": "markdown",
   "metadata": {},
   "source": [
    "# IF ELSE..."
   ]
  },
  {
   "cell_type": "code",
   "execution_count": 14,
   "metadata": {},
   "outputs": [
    {
     "name": "stdout",
     "output_type": "stream",
     "text": [
      "a is less than 10.\n"
     ]
    }
   ],
   "source": [
    "a = 5\n",
    "\n",
    "if a < 10:\n",
    "     print('a is less than 10.')\n",
    "else:\n",
    "    print('a is greater than 10.')\n"
   ]
  },
  {
   "cell_type": "code",
   "execution_count": 27,
   "metadata": {},
   "outputs": [
    {
     "name": "stdout",
     "output_type": "stream",
     "text": [
      "a is greater than 10.\n"
     ]
    }
   ],
   "source": [
    "a = 15\n",
    "\n",
    "if a < 10:\n",
    "     print('a is less than 10.')\n",
    "else:\n",
    "    print('a is greater than 10.')"
   ]
  },
  {
   "cell_type": "markdown",
   "metadata": {},
   "source": [
    "# if … elif … else"
   ]
  },
  {
   "cell_type": "code",
   "execution_count": 29,
   "metadata": {},
   "outputs": [],
   "source": [
    "a=5"
   ]
  },
  {
   "cell_type": "code",
   "execution_count": 30,
   "metadata": {},
   "outputs": [
    {
     "name": "stdout",
     "output_type": "stream",
     "text": [
      "a is equal to 5.\n"
     ]
    }
   ],
   "source": [
    "if a == 5:\n",
    "    print('a is equal to 5.')\n",
    "elif a < 5:\n",
    "    print('a is less than 5.')\n",
    "elif a > 5 and a < 10:\n",
    "    print('a is inbetween 5 and 10.')\n",
    "else:\n",
    "    print('a is greater than 10.')"
   ]
  },
  {
   "cell_type": "code",
   "execution_count": 33,
   "metadata": {},
   "outputs": [],
   "source": [
    "a=7"
   ]
  },
  {
   "cell_type": "code",
   "execution_count": null,
   "metadata": {},
   "outputs": [],
   "source": []
  },
  {
   "cell_type": "code",
   "execution_count": 34,
   "metadata": {},
   "outputs": [
    {
     "name": "stdout",
     "output_type": "stream",
     "text": [
      "a is inbetween 5 and 10.\n"
     ]
    }
   ],
   "source": [
    "if a == 5:\n",
    "    print('a is equal to 5.')\n",
    "elif a < 5:\n",
    "    print('a is less than 5.')\n",
    "elif a > 5 and a < 10:\n",
    "    print('a is inbetween 5 and 10.')\n",
    "else:\n",
    "    print('a is greater than 10.')"
   ]
  },
  {
   "cell_type": "code",
   "execution_count": 35,
   "metadata": {},
   "outputs": [],
   "source": [
    "a=100"
   ]
  },
  {
   "cell_type": "code",
   "execution_count": 36,
   "metadata": {},
   "outputs": [
    {
     "name": "stdout",
     "output_type": "stream",
     "text": [
      "a is greater than 10.\n"
     ]
    }
   ],
   "source": [
    "if a == 5:\n",
    "    print('a is equal to 5.')\n",
    "elif a < 5:\n",
    "    print('a is less than 5.')\n",
    "elif a > 5 and a < 10:\n",
    "    print('a is inbetween 5 and 10.')\n",
    "else:\n",
    "    print('a is greater than 10.')"
   ]
  },
  {
   "cell_type": "markdown",
   "metadata": {},
   "source": [
    "# Nested IF"
   ]
  },
  {
   "cell_type": "code",
   "execution_count": 37,
   "metadata": {},
   "outputs": [],
   "source": [
    "a=5"
   ]
  },
  {
   "cell_type": "code",
   "execution_count": 38,
   "metadata": {},
   "outputs": [
    {
     "name": "stdout",
     "output_type": "stream",
     "text": [
      "less, no\n"
     ]
    }
   ],
   "source": [
    "if a < 10:\n",
    "    if (a % 2) == 0:\n",
    "        print('less, yes')\n",
    "    else:\n",
    "        print('less, no')\n",
    "else:\n",
    "    if (a % 3) == 0:\n",
    "        print('greater, yes')\n",
    "    else:\n",
    "        print('greater, no')"
   ]
  },
  {
   "cell_type": "code",
   "execution_count": 40,
   "metadata": {},
   "outputs": [],
   "source": [
    "a=6"
   ]
  },
  {
   "cell_type": "code",
   "execution_count": 41,
   "metadata": {},
   "outputs": [
    {
     "name": "stdout",
     "output_type": "stream",
     "text": [
      "less, yes\n"
     ]
    }
   ],
   "source": [
    "if a < 10:\n",
    "    if (a % 2) == 0:\n",
    "        print('less, yes')\n",
    "    else:\n",
    "        print('less, no')\n",
    "else:\n",
    "    if (a % 3) == 0:\n",
    "        print('greater, yes')\n",
    "    else:\n",
    "        print('greater, no')"
   ]
  },
  {
   "cell_type": "code",
   "execution_count": 46,
   "metadata": {},
   "outputs": [],
   "source": [
    "a=18"
   ]
  },
  {
   "cell_type": "code",
   "execution_count": 47,
   "metadata": {},
   "outputs": [
    {
     "name": "stdout",
     "output_type": "stream",
     "text": [
      "greater, yes\n"
     ]
    }
   ],
   "source": [
    "if a < 10:\n",
    "    if (a % 2) == 0:\n",
    "        print('less, yes')\n",
    "    else:\n",
    "        print('less, no')\n",
    "else:\n",
    "    if (a % 3) == 0:\n",
    "        print('greater, yes')\n",
    "    else:\n",
    "        print('greater, no')"
   ]
  },
  {
   "cell_type": "code",
   "execution_count": 48,
   "metadata": {},
   "outputs": [],
   "source": [
    "a=20"
   ]
  },
  {
   "cell_type": "code",
   "execution_count": 49,
   "metadata": {},
   "outputs": [
    {
     "name": "stdout",
     "output_type": "stream",
     "text": [
      "greater, no\n"
     ]
    }
   ],
   "source": [
    "if a < 10:\n",
    "    if (a % 2) == 0:\n",
    "        print('less, yes')\n",
    "    else:\n",
    "        print('less, no')\n",
    "else:\n",
    "    if (a % 3) == 0:\n",
    "        print('greater, yes')\n",
    "    else:\n",
    "        print('greater, no')"
   ]
  },
  {
   "cell_type": "code",
   "execution_count": 50,
   "metadata": {},
   "outputs": [],
   "source": [
    "a=100"
   ]
  },
  {
   "cell_type": "code",
   "execution_count": null,
   "metadata": {},
   "outputs": [],
   "source": []
  },
  {
   "cell_type": "code",
   "execution_count": 52,
   "metadata": {},
   "outputs": [
    {
     "name": "stdout",
     "output_type": "stream",
     "text": [
      "No\n"
     ]
    }
   ],
   "source": [
    "if a%3 == 0 and a%5 == 0:\n",
    "    print('Yes')\n",
    "else:\n",
    "    print('No')"
   ]
  },
  {
   "cell_type": "code",
   "execution_count": 53,
   "metadata": {},
   "outputs": [],
   "source": [
    "a=30"
   ]
  },
  {
   "cell_type": "code",
   "execution_count": 54,
   "metadata": {},
   "outputs": [
    {
     "name": "stdout",
     "output_type": "stream",
     "text": [
      "Yes\n"
     ]
    }
   ],
   "source": [
    "if a%3 == 0 and a%5 == 0:\n",
    "    print('Yes')\n",
    "else:\n",
    "    print('No')"
   ]
  },
  {
   "cell_type": "code",
   "execution_count": 55,
   "metadata": {},
   "outputs": [
    {
     "name": "stdout",
     "output_type": "stream",
     "text": [
      "Positive\n"
     ]
    }
   ],
   "source": [
    "number = 10.5\n",
    "if number > 0:\n",
    "    print('Positive')\n",
    "elif number < 0:\n",
    "    print('Negative')\n",
    "else:\n",
    "    print('Zero')"
   ]
  },
  {
   "cell_type": "code",
   "execution_count": 56,
   "metadata": {},
   "outputs": [
    {
     "name": "stdout",
     "output_type": "stream",
     "text": [
      "Even\n"
     ]
    }
   ],
   "source": [
    "number = 10\n",
    "\n",
    "if number % 2 == 0:\n",
    "    print('Even')\n",
    "else:\n",
    "    print('Odd')"
   ]
  },
  {
   "cell_type": "code",
   "execution_count": 57,
   "metadata": {},
   "outputs": [
    {
     "name": "stdout",
     "output_type": "stream",
     "text": [
      "Upper Case\n"
     ]
    }
   ],
   "source": [
    "character = 'My name is hridoy'\n",
    "\n",
    "if character >= 'a' and character <= 'z' :\n",
    "    print('Lower Case')\n",
    "elif character >= 'A' and character <= 'Z' :\n",
    "    print('Upper Case')\n",
    "else:\n",
    "    print('Nothing')"
   ]
  },
  {
   "cell_type": "code",
   "execution_count": 58,
   "metadata": {},
   "outputs": [
    {
     "name": "stdout",
     "output_type": "stream",
     "text": [
      "Lower Case\n"
     ]
    }
   ],
   "source": [
    "character = 'hridoy'\n",
    "\n",
    "if character >= 'a' and character <= 'z' :\n",
    "    print('Lower Case')\n",
    "elif character >= 'A' and character <= 'Z' :\n",
    "    print('Upper Case')\n",
    "else:\n",
    "    print('Nothing')"
   ]
  },
  {
   "cell_type": "code",
   "execution_count": 59,
   "metadata": {},
   "outputs": [
    {
     "name": "stdout",
     "output_type": "stream",
     "text": [
      "Consonant\n"
     ]
    }
   ],
   "source": [
    "character = 'hridoy'\n",
    "\n",
    "if character >= 'a' and character <= 'z' or character >= 'A' and character <= 'z' :\n",
    "    if character in 'aeiouAEIOU':\n",
    "        print('Vowel')\n",
    "    else:\n",
    "        print('Consonant')\n",
    "else:\n",
    "    print('Nothing')"
   ]
  },
  {
   "cell_type": "code",
   "execution_count": 60,
   "metadata": {},
   "outputs": [
    {
     "name": "stdout",
     "output_type": "stream",
     "text": [
      "Consonant\n"
     ]
    }
   ],
   "source": [
    "character = 'voila'\n",
    "\n",
    "if character >= 'a' and character <= 'z' or character >= 'A' and character <= 'z' :\n",
    "    if character in 'aeiouAEIOU':\n",
    "        print('Vowel')\n",
    "    else:\n",
    "        print('Consonant')\n",
    "else:\n",
    "    print('Nothing')"
   ]
  },
  {
   "cell_type": "markdown",
   "metadata": {},
   "source": [
    "# LOOP"
   ]
  },
  {
   "cell_type": "code",
   "execution_count": 62,
   "metadata": {},
   "outputs": [
    {
     "name": "stdout",
     "output_type": "stream",
     "text": [
      "1\n",
      "2\n",
      "3\n",
      "4\n",
      "5\n",
      "6\n",
      "7\n",
      "8\n",
      "9\n",
      "10\n"
     ]
    }
   ],
   "source": [
    "print(1)\n",
    "print(2)\n",
    "print(3)\n",
    "print(4)\n",
    "print(5)\n",
    "print(6)\n",
    "print(7)\n",
    "print(8)\n",
    "print(9)\n",
    "print(10)"
   ]
  },
  {
   "cell_type": "code",
   "execution_count": null,
   "metadata": {},
   "outputs": [],
   "source": [
    "what if you are supossed to prinet 100,1000! boring "
   ]
  },
  {
   "cell_type": "code",
   "execution_count": null,
   "metadata": {},
   "outputs": [],
   "source": [
    "While loop\n",
    "while condion :\n",
    "    print(something)\n",
    "    break loop or it will run infinit"
   ]
  },
  {
   "cell_type": "code",
   "execution_count": 63,
   "metadata": {},
   "outputs": [
    {
     "name": "stdout",
     "output_type": "stream",
     "text": [
      "1\n",
      "2\n",
      "3\n",
      "4\n",
      "5\n",
      "6\n",
      "7\n",
      "8\n",
      "9\n",
      "10\n"
     ]
    }
   ],
   "source": [
    "n = 1\n",
    "while n <= 10:\n",
    "    print(n)\n",
    "    n = n+1"
   ]
  },
  {
   "cell_type": "code",
   "execution_count": null,
   "metadata": {},
   "outputs": [],
   "source": [
    "problem : 1+2+3+4+…+100 ?"
   ]
  },
  {
   "cell_type": "code",
   "execution_count": 64,
   "metadata": {},
   "outputs": [
    {
     "name": "stdout",
     "output_type": "stream",
     "text": [
      "5050\n"
     ]
    }
   ],
   "source": [
    "n = 1\n",
    "temp = 0\n",
    "while n <= 100:\n",
    "    temp = temp + n\n",
    "    n = n + 1\n",
    "print(temp)"
   ]
  },
  {
   "cell_type": "raw",
   "metadata": {},
   "source": [
    "We first assigned the value of n as 1 and the value of temp as 0. Then I started rotating the while loop. The condition of the while loop is equal to or less than 100. In that case the action is to add the value of n to temp and assign the sum to temp. Then I will increase the value of n to 1. In this way the value of 1 + 2 + 3 + 4 + + 100 will be assigned inside the temp by turning the loop 100 times. Then we print the value of temp and show it."
   ]
  },
  {
   "cell_type": "markdown",
   "metadata": {},
   "source": [
    "# FOR LOOP *"
   ]
  },
  {
   "cell_type": "raw",
   "metadata": {},
   "source": [
    "With the for loop we can iterate these sequential items. Iterating means being able to read item by item. The object that can be iterated is called the iterator object. Lists, tuples, sets, dictionaries can all be itered."
   ]
  },
  {
   "cell_type": "code",
   "execution_count": null,
   "metadata": {},
   "outputs": [],
   "source": [
    "looping list"
   ]
  },
  {
   "cell_type": "code",
   "execution_count": 66,
   "metadata": {},
   "outputs": [
    {
     "name": "stdout",
     "output_type": "stream",
     "text": [
      "1\n",
      "2\n",
      "3\n",
      "4\n",
      "Python\n",
      "is\n",
      "neat\n"
     ]
    }
   ],
   "source": [
    "my_list = [1, 2, 3, 4, 'Python', 'is', 'neat']\n",
    "for item in my_list:\n",
    "    print(item)"
   ]
  },
  {
   "cell_type": "code",
   "execution_count": 67,
   "metadata": {},
   "outputs": [
    {
     "name": "stdout",
     "output_type": "stream",
     "text": [
      "<class 'list'>\n",
      "onion\n",
      "potato\n",
      "ginger\n",
      "cucumber\n"
     ]
    }
   ],
   "source": [
    "a = ['onion', 'potato', 'ginger', 'cucumber']\n",
    "print(type(a))\n",
    "for item in a:\n",
    "    print(item)"
   ]
  },
  {
   "cell_type": "markdown",
   "metadata": {},
   "source": [
    "Looping dictionaries¶"
   ]
  },
  {
   "cell_type": "code",
   "execution_count": 69,
   "metadata": {},
   "outputs": [
    {
     "name": "stdout",
     "output_type": "stream",
     "text": [
      "{'name': 'Al-iqram', 'nickname': 'Hridoy', 'email': 'aliqramalaheehridoy@gmail.com', 'phone': '01711223344'}\n",
      "<class 'dict'>\n",
      "name\n",
      "nickname\n",
      "email\n",
      "phone\n"
     ]
    }
   ],
   "source": [
    "a = {'name' : 'Al-iqram', 'nickname' : 'Hridoy', 'email' : 'aliqramalaheehridoy@gmail.com', 'phone' : '01711223344'}\n",
    "print(a)\n",
    "print(type(a))\n",
    "for item in a:\n",
    "    print(item)"
   ]
  },
  {
   "cell_type": "code",
   "execution_count": null,
   "metadata": {},
   "outputs": [],
   "source": [
    "break\n",
    "Stop the execution of the loop."
   ]
  },
  {
   "cell_type": "code",
   "execution_count": 70,
   "metadata": {},
   "outputs": [],
   "source": [
    "my_list = [1, 2, 3, 4, 'Python', 'is', 'neat']"
   ]
  },
  {
   "cell_type": "code",
   "execution_count": 71,
   "metadata": {},
   "outputs": [
    {
     "name": "stdout",
     "output_type": "stream",
     "text": [
      "1\n",
      "2\n",
      "3\n",
      "4\n"
     ]
    }
   ],
   "source": [
    "for item in my_list:\n",
    "    if item == 'Python':\n",
    "        break\n",
    "    print(item)"
   ]
  },
  {
   "cell_type": "raw",
   "metadata": {},
   "source": [
    "continue\n",
    "Continue to the next item without executing the lines occuring after continue inside the loop."
   ]
  },
  {
   "cell_type": "code",
   "execution_count": 72,
   "metadata": {},
   "outputs": [
    {
     "name": "stdout",
     "output_type": "stream",
     "text": [
      "2\n",
      "3\n",
      "4\n",
      "Python\n",
      "is\n",
      "neat\n"
     ]
    }
   ],
   "source": [
    "for item in my_list:\n",
    "    if item == 1:\n",
    "        continue\n",
    "    print(item)"
   ]
  },
  {
   "cell_type": "code",
   "execution_count": null,
   "metadata": {},
   "outputs": [],
   "source": [
    "enumerate()\n",
    "In case you need to also know the index:"
   ]
  },
  {
   "cell_type": "code",
   "execution_count": 73,
   "metadata": {},
   "outputs": [
    {
     "name": "stdout",
     "output_type": "stream",
     "text": [
      "idx: 0, value: 1\n",
      "idx: 1, value: 2\n",
      "idx: 2, value: 3\n",
      "idx: 3, value: 4\n",
      "idx: 4, value: Python\n",
      "idx: 5, value: is\n",
      "idx: 6, value: neat\n"
     ]
    }
   ],
   "source": [
    "for idx, val in enumerate(my_list):\n",
    "    print('idx: {}, value: {}'.format(idx, val))"
   ]
  },
  {
   "cell_type": "markdown",
   "metadata": {},
   "source": [
    "# Range"
   ]
  },
  {
   "cell_type": "code",
   "execution_count": 74,
   "metadata": {},
   "outputs": [
    {
     "name": "stdout",
     "output_type": "stream",
     "text": [
      "1\n",
      "2\n",
      "3\n",
      "4\n",
      "5\n",
      "6\n",
      "7\n",
      "8\n",
      "9\n",
      "10\n"
     ]
    }
   ],
   "source": [
    "for number in range(1, 11):\n",
    "    print(number)"
   ]
  },
  {
   "cell_type": "code",
   "execution_count": 75,
   "metadata": {},
   "outputs": [
    {
     "name": "stdout",
     "output_type": "stream",
     "text": [
      "2\n",
      "3\n",
      "4\n"
     ]
    }
   ],
   "source": [
    "for number in range(2, 5):\n",
    "    print(number)"
   ]
  },
  {
   "cell_type": "code",
   "execution_count": 76,
   "metadata": {},
   "outputs": [
    {
     "name": "stdout",
     "output_type": "stream",
     "text": [
      "0\n",
      "2\n",
      "4\n",
      "6\n",
      "8\n"
     ]
    }
   ],
   "source": [
    "for number in range(0, 10, 2):  # last one is step\n",
    "    print(number)"
   ]
  },
  {
   "cell_type": "code",
   "execution_count": null,
   "metadata": {},
   "outputs": [],
   "source": [
    "examples\n"
   ]
  },
  {
   "cell_type": "code",
   "execution_count": 77,
   "metadata": {},
   "outputs": [
    {
     "name": "stdout",
     "output_type": "stream",
     "text": [
      "[13, 34, 19, 28, 46, 49, 1, 31, 4, 7, 43, 16, 22, 25, 40, 37]\n"
     ]
    }
   ],
   "source": [
    "a = [13, 34, 19, 28, 46, 61, 73, 49, 1, 31, 4, 7, 91, 58, 52, 82, 70, 43, 88, 55, 97, 16, 22, 25, 79, 85, 40, 64, 94, 67, 37]\n",
    "my_list = []\n",
    "\n",
    "for i in a:\n",
    "    if i < 50:\n",
    "        my_list.append(i)\n",
    "\n",
    "print(my_list)"
   ]
  },
  {
   "cell_type": "markdown",
   "metadata": {},
   "source": [
    "# FUNCTION"
   ]
  },
  {
   "cell_type": "code",
   "execution_count": null,
   "metadata": {},
   "outputs": [],
   "source": [
    "function is like a machine or factory which produce something"
   ]
  },
  {
   "cell_type": "raw",
   "metadata": {},
   "source": [
    "Now let's talk about a bread making machine. When we put water and flour in this machine, the machine makes our bread. The parameters in this machine are but two- water and flour. But only bread is returning. In fact the function cannot return more than one.\n",
    "\n",
    "A Python function is a block of organized and reusable code that performs a specific function. We may do a lot of work inside the function, but we will not be able to return more than one data, so we will assume that the function is performing only one task. In general, we can divide the function into two parts: 1. Built-in function and 2. User-defined function.\n",
    "\n",
    "All the functions we have used so far such as: print (), input (), pop (), these are all built-in functions. We call these built-in functions because they are available readymade with Python."
   ]
  },
  {
   "cell_type": "raw",
   "metadata": {},
   "source": [
    "How to make functions and call it "
   ]
  },
  {
   "cell_type": "raw",
   "metadata": {},
   "source": [
    "Python has specific rules for creating or writing functions.\n",
    "\n",
    "The function will start with the block def keyword. The function name will be followed by a space after def. The name of the function can be the same as the name of the variable. However, the name of the function can be started with underscore _.\n",
    "\n",
    "The name of the function will be followed by the 1st bracket (). Inside the bracket, one or more parameters or arguments will be separated by commas. The bracket will be followed by the colon: sign.\n",
    "\n",
    "All statements of the function will be indented. It is better to have only one comment in the first statement. This comment will have a brief introduction to the function. However, it is not mandatory.\n",
    "\n",
    "The function will end with the return keyword. In case of returning any data, there will be a space after its keyword"
   ]
  },
  {
   "cell_type": "code",
   "execution_count": 78,
   "metadata": {},
   "outputs": [
    {
     "name": "stdout",
     "output_type": "stream",
     "text": [
      "type: <function my_first_function at 0x11000f290>\n",
      "Hello world!\n"
     ]
    }
   ],
   "source": [
    "def my_first_function():\n",
    "    print('Hello world!')\n",
    "\n",
    "print('type: {}'.format(my_first_function))\n",
    "\n",
    "my_first_function()  # Calling a function"
   ]
  },
  {
   "cell_type": "raw",
   "metadata": {},
   "source": [
    "# Arguments"
   ]
  },
  {
   "cell_type": "code",
   "execution_count": 79,
   "metadata": {},
   "outputs": [
    {
     "name": "stdout",
     "output_type": "stream",
     "text": [
      "Hello John Doe and Superman!\n"
     ]
    }
   ],
   "source": [
    "def greet_us(name1, name2):\n",
    "    print('Hello {} and {}!'.format(name1, name2))\n",
    "\n",
    "greet_us('John Doe', 'Superman')"
   ]
  },
  {
   "cell_type": "code",
   "execution_count": 80,
   "metadata": {},
   "outputs": [
    {
     "name": "stdout",
     "output_type": "stream",
     "text": [
      "pretty: mixed case\n"
     ]
    }
   ],
   "source": [
    "# Function with return value\n",
    "def strip_and_lowercase(original):\n",
    "    modified = original.strip().lower()\n",
    "    return modified\n",
    "\n",
    "uggly_string = '  MixED CaSe '\n",
    "pretty = strip_and_lowercase(uggly_string)\n",
    "print('pretty: {}'.format(pretty))"
   ]
  },
  {
   "cell_type": "code",
   "execution_count": null,
   "metadata": {},
   "outputs": [],
   "source": [
    "Keyword arguments"
   ]
  },
  {
   "cell_type": "code",
   "execution_count": 81,
   "metadata": {},
   "outputs": [
    {
     "name": "stdout",
     "output_type": "stream",
     "text": [
      "4\n",
      "4\n",
      "4\n",
      "4\n"
     ]
    }
   ],
   "source": [
    "def my_fancy_calculation(first, second, third):\n",
    "    return first + second - third \n",
    "\n",
    "print(my_fancy_calculation(3, 2, 1))\n",
    "\n",
    "print(my_fancy_calculation(first=3, second=2, third=1))\n",
    "\n",
    "# With keyword arguments you can mix the order\n",
    "print(my_fancy_calculation(third=1, first=3, second=2))\n",
    "\n",
    "# You can mix arguments and keyword arguments but you have to start with arguments\n",
    "print(my_fancy_calculation(3, third=1, second=2))  "
   ]
  },
  {
   "cell_type": "code",
   "execution_count": 82,
   "metadata": {},
   "outputs": [
    {
     "name": "stdout",
     "output_type": "stream",
     "text": [
      "6\n"
     ]
    }
   ],
   "source": [
    "def add(a, b, c):\n",
    "    return a+b+c\n",
    "temp = add(1, 2, 3)\n",
    "print(temp)"
   ]
  },
  {
   "cell_type": "code",
   "execution_count": null,
   "metadata": {},
   "outputs": [],
   "source": [
    "Default arguments"
   ]
  },
  {
   "cell_type": "code",
   "execution_count": 83,
   "metadata": {},
   "outputs": [
    {
     "name": "stdout",
     "output_type": "stream",
     "text": [
      "{'name': 'John Doe', 'age': 82, 'salary': 300}\n",
      "{'name': 'Lisa Doe', 'age': 22, 'salary': 10000, 'job': 'hacker'}\n"
     ]
    }
   ],
   "source": [
    "def create_person_info(name, age, job=None, salary=300):\n",
    "    info = {'name': name, 'age': age, 'salary': salary}\n",
    "    \n",
    "    # Add 'job' key only if it's provided as parameter\n",
    "    if job:  \n",
    "        info.update(dict(job=job))\n",
    "        \n",
    "    return info\n",
    "\n",
    "person1 = create_person_info('John Doe', 82)  # use default values for job and salary\n",
    "person2 = create_person_info('Lisa Doe', 22, 'hacker', 10000)\n",
    "print(person1)\n",
    "print(person2)"
   ]
  },
  {
   "cell_type": "code",
   "execution_count": null,
   "metadata": {},
   "outputs": [],
   "source": [
    "Docstrings\n",
    "Strings for documenting your functions, methods, modules and variables."
   ]
  },
  {
   "cell_type": "code",
   "execution_count": 84,
   "metadata": {},
   "outputs": [
    {
     "name": "stdout",
     "output_type": "stream",
     "text": [
      "Help on function print_sum in module __main__:\n",
      "\n",
      "print_sum(val1, val2)\n",
      "    Function which prints the sum of given arguments.\n",
      "\n",
      "None\n"
     ]
    }
   ],
   "source": [
    "def print_sum(val1, val2):\n",
    "    \"\"\"Function which prints the sum of given arguments.\"\"\"\n",
    "    print('sum: {}'.format(val1 + val2))\n",
    "\n",
    "print(help(print_sum))"
   ]
  },
  {
   "cell_type": "code",
   "execution_count": 85,
   "metadata": {},
   "outputs": [
    {
     "name": "stdout",
     "output_type": "stream",
     "text": [
      "Help on function calculate_sum in module __main__:\n",
      "\n",
      "calculate_sum(val1, val2)\n",
      "    This is a longer docstring defining also the args and the return value. \n",
      "    \n",
      "    Args:\n",
      "        val1: The first parameter.\n",
      "        val2: The second parameter.\n",
      "    \n",
      "    Returns:\n",
      "        The sum of val1 and val2.\n",
      "\n",
      "None\n"
     ]
    }
   ],
   "source": [
    "def calculate_sum(val1, val2):\n",
    "    \"\"\"This is a longer docstring defining also the args and the return value. \n",
    "\n",
    "    Args:\n",
    "        val1: The first parameter.\n",
    "        val2: The second parameter.\n",
    "\n",
    "    Returns:\n",
    "        The sum of val1 and val2.\n",
    "        \n",
    "    \"\"\"\n",
    "    return val1 + val2\n",
    "\n",
    "print(help(calculate_sum))"
   ]
  }
 ],
 "metadata": {
  "kernelspec": {
   "display_name": "Python 3",
   "language": "python",
   "name": "python3"
  },
  "language_info": {
   "codemirror_mode": {
    "name": "ipython",
    "version": 3
   },
   "file_extension": ".py",
   "mimetype": "text/x-python",
   "name": "python",
   "nbconvert_exporter": "python",
   "pygments_lexer": "ipython3",
   "version": "3.7.6"
  }
 },
 "nbformat": 4,
 "nbformat_minor": 2
}
